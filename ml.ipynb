{
 "cells": [
  {
   "cell_type": "code",
   "execution_count": 227,
   "id": "339c953b",
   "metadata": {},
   "outputs": [],
   "source": [
    "import pandas as pd\n",
    "import numpy as np\n",
    "import re\n",
    "import spacy\n",
    "import html\n",
    "import emoji\n",
    "import unidecode\n",
    "import subprocess\n",
    "import sys\n",
    "from collections import Counter\n",
    "import matplotlib.pyplot as plt\n",
    "from typing import List\n",
    "\n",
    "from spacy.lang.pt.stop_words import STOP_WORDS as SPACY_STOP\n",
    "from sklearn.feature_extraction.text import TfidfVectorizer\n",
    "\n",
    "from sklearn.linear_model import LogisticRegression\n",
    "from sklearn.metrics import classification_report\n",
    "from sklearn.neighbors import KNeighborsClassifier\n",
    "from sklearn.svm import LinearSVC\n",
    "from sklearn.naive_bayes import MultinomialNB\n",
    "from sklearn.metrics import roc_auc_score"
   ]
  },
  {
   "cell_type": "code",
   "execution_count": 135,
   "id": "584fc634",
   "metadata": {},
   "outputs": [],
   "source": [
    "train_df = pd.read_csv('./train_movies.csv')\n",
    "test_df = pd.read_csv('./test_movies.csv')"
   ]
  },
  {
   "cell_type": "code",
   "execution_count": 136,
   "id": "db1fa7ca",
   "metadata": {},
   "outputs": [
    {
     "data": {
      "text/plain": [
       "(40588, 4)"
      ]
     },
     "execution_count": 136,
     "metadata": {},
     "output_type": "execute_result"
    }
   ],
   "source": [
    "train_df.shape"
   ]
  },
  {
   "cell_type": "markdown",
   "id": "02f9a316",
   "metadata": {},
   "source": [
    "## **Análise Exploratória**"
   ]
  },
  {
   "cell_type": "code",
   "execution_count": 137,
   "id": "bcd52b9c",
   "metadata": {},
   "outputs": [
    {
     "name": "stdout",
     "output_type": "stream",
     "text": [
      "Top 100 tokens no dataset de treino (15 primeiros):\n",
      " 1. que             43917\n",
      " 2. o               42717\n",
      " 3. de              40822\n",
      " 4. e               39099\n",
      " 5. a               35031\n",
      " 6. filme           30041\n",
      " 7. é               25962\n",
      " 8. um              21998\n",
      " 9. não             21185\n",
      "10. do              19445\n",
      "11. uma             14055\n",
      "12. mas             13716\n",
      "13. com             13274\n",
      "14. muito           11604\n",
      "15. da              11443\n",
      "Stop-words no top100 (sem pontuação): 81/100 (81.00%)\n",
      "\n",
      "Tokens do top100 que não estão na lista de stop-words: ['filme', 'pra', 'história', 'melhor', 'filmes', 'achei', 'gostei', 'roteiro', 'cenas', 'personagens', 'assistir', 'cena', 'vida', 'personagem', 'acho', 'cinema', 'vi', 'trilha', 'atuação']\n"
     ]
    }
   ],
   "source": [
    "# Top tokens no dataset de treino\n",
    "nlp = spacy.load(\"pt_core_news_sm\", disable=[\"ner\", \"parser\", \"tagger\"])\n",
    "\n",
    "RE_WORD = re.compile(r\"^[A-Za-zÀ-ÖØ-öø-ÿ]+$|^<\\w+>$\")\n",
    "\n",
    "def top_tokens_words(text_series, top_n=100):\n",
    "    total = Counter()\n",
    "    for doc in nlp.pipe(text_series, batch_size=1000):\n",
    "        total.update(\n",
    "            tok.text.lower()\n",
    "            for tok in doc\n",
    "            if (not tok.is_space)\n",
    "            and RE_WORD.match(tok.text)\n",
    "        )\n",
    "    return total.most_common(top_n)\n",
    "\n",
    "top100_words = top_tokens_words(train_df[\"text\"], 100)\n",
    "\n",
    "print('Top 100 tokens no dataset de treino (15 primeiros):')\n",
    "for i, (token, count) in enumerate(top100_words[:15]):\n",
    "    print(f\"{i+1:>2d}. {token:<15} {count:>5d}\")\n",
    "\n",
    "# Contagem de stop-words dentro desse top100\n",
    "stop_words = set(SPACY_STOP)\n",
    "\n",
    "def count_stop_words(tokens):\n",
    "    return sum(1 for t in tokens if t in stop_words)\n",
    "\n",
    "stop_count = count_stop_words([t for t, _ in top100_words])\n",
    "print(f\"Stop-words no top100 (sem pontuação): {stop_count}/{len(top100_words)} \"\n",
    "      f\"({stop_count/len(top100_words):.2%})\")\n",
    "\n",
    "# Quais tokens de conteúdo (não-stop-word) sobraram?\n",
    "not_stop = [t for t, _ in top100_words if t not in stop_words]\n",
    "print()\n",
    "print(f'Tokens do top100 que não estão na lista de stop-words: {not_stop}' )"
   ]
  },
  {
   "cell_type": "code",
   "execution_count": 275,
   "id": "0756d5cf",
   "metadata": {},
   "outputs": [
    {
     "name": "stdout",
     "output_type": "stream",
     "text": [
      "Posições das palavras de not_stop no top100: [(6, 'filme'), (28, 'pra'), (38, 'história'), (42, 'melhor'), (44, 'filmes'), (47, 'achei'), (55, 'gostei'), (57, 'roteiro'), (61, 'cenas'), (67, 'personagens'), (69, 'assistir'), (77, 'cena'), (80, 'vida'), (81, 'personagem'), (82, 'acho'), (88, 'cinema'), (89, 'vi'), (93, 'trilha'), (98, 'atuação')]\n"
     ]
    }
   ],
   "source": [
    "# verificar em qual posição as palavras de not_stop ocupam no top100\n",
    "not_stop_positions = [(i+1, t) for i, (t, _) in enumerate(top100_words) if t in not_stop]\n",
    "print(f'Posições das palavras de not_stop no top100: {not_stop_positions}')  "
   ]
  },
  {
   "cell_type": "markdown",
   "id": "381d2c24",
   "metadata": {},
   "source": [
    "# **Pré Processamento**"
   ]
  },
  {
   "cell_type": "code",
   "execution_count": 138,
   "id": "145cffa7",
   "metadata": {},
   "outputs": [],
   "source": [
    "# NORMALIZAÇÃO\n",
    "# Padronizar texto deixando as palavras em letras minúsculas e trocando padrões volumosos por placeholders. \n",
    "# Isso reduz esparsidade e mantém sinal útil (números, intensidade “!!!”, “???”)\n",
    "\n",
    "RE_URL   = re.compile(r\"(http\\S+|www\\.\\S+)\")\n",
    "RE_HTML  = re.compile(r\"<[^>]+>\")\n",
    "RE_NUM   = re.compile(r\"(\\d+[.,]?\\d*|\\d+/\\d+)\")\n",
    "RE_EXCL  = re.compile(r\"!{2,}\")\n",
    "RE_QST   = re.compile(r\"\\?{2,}\")\n",
    "RE_PUNCT = re.compile(r\"[^\\wÀ-ÿ\\s<>]\")\n",
    "RE_SPACE = re.compile(r\"\\s{2,}\")\n",
    "\n",
    "def clean(text: str, strip_accents: bool = True) -> str:\n",
    "    text = html.unescape(text or \"\")\n",
    "    # --- placeholders que preservam sinal sentiment (NUM, EXCL, QST) ----------\n",
    "    text = RE_NUM.sub(\" <NUM> \", text)\n",
    "    text = RE_EXCL.sub(\" <EXCL> \", text)\n",
    "    text = RE_QST.sub(\" <QST> \", text)\n",
    "    # --- remoção de ruído estrutural ------------------------------------------\n",
    "    text = RE_URL.sub(\" \", text)\n",
    "    text = RE_HTML.sub(\" \", text)\n",
    "    # --- lower / remoção de acento p/ padronizar vocab ------------------------\n",
    "    text = text.lower()\n",
    "    if strip_accents:\n",
    "        text = unidecode.unidecode(text)\n",
    "    # --- limpeza final de pontuação residual e múltiplos espaços -------------\n",
    "    text = RE_PUNCT.sub(\" \", text)\n",
    "    text = RE_SPACE.sub(\" \", text).strip()\n",
    "    return text"
   ]
  },
  {
   "cell_type": "code",
   "execution_count": 139,
   "id": "da90812b",
   "metadata": {},
   "outputs": [],
   "source": [
    "# EMOJIS\n",
    "# Emojis são fortes pistas de polaridade. Usamos emoji.demojize para convertê-los em short-codes “:nome:”, \n",
    "# depois viram tokens únicos do tipo <EMOJI_nome>. Preservando emoção sem explodir o vocabulário\n",
    "\n",
    "RE_DEMOJ = re.compile(r\":([a-z0-9_&+\\-]+):\")\n",
    "\n",
    "def replace_emojis(text: str) -> str:\n",
    "    text = emoji.demojize(text, language=\"en\")\n",
    "    return RE_DEMOJ.sub(lambda m: f\" <EMOJI_{m.group(1)}> \", text)"
   ]
  },
  {
   "cell_type": "code",
   "execution_count": 140,
   "id": "86fde18f",
   "metadata": {},
   "outputs": [],
   "source": [
    "# STOP WORDS\n",
    "# Começamos com a lista oficial do spaCy\n",
    "# Depois removemos palavras que carregam polaridade (“não”, “jamais” etc.) e\n",
    "# adicionamos os termos ultra-frequentes do domínio (ex.: “filme”, “história”) para evitar que dominem o TF-IDF.  \n",
    "\n",
    "stop_words = set(SPACY_STOP)\n",
    "\n",
    "stop_words -= {\"não\", \"nunca\", \"jamais\", \"sem\", \"nem\"}\n",
    "\n",
    "domain_neutral = set(not_stop)\n",
    "\n",
    "stop_words |= domain_neutral"
   ]
  },
  {
   "cell_type": "code",
   "execution_count": 141,
   "id": "d7559081",
   "metadata": {},
   "outputs": [],
   "source": [
    "# TOKENIZAÇÃO + LEMATIZAÇÃO\n",
    "# Carregamos o modelo leve pt_core_news_sm e marcamos no vocab os stop-wordsvfinais\n",
    "# Tokenizamos cada frase, descartando stop-words e retornando lemas\n",
    "# para reduzir sparsidade (ex.: “assistindo” → “assistir”)\n",
    "\n",
    "try:\n",
    "    nlp = spacy.load(\"pt_core_news_sm\", disable=[\"ner\", \"parser\"])\n",
    "except OSError:\n",
    "    subprocess.check_call([sys.executable, \"-m\", \"spacy\", \"download\", \"pt_core_news_sm\"])\n",
    "    nlp = spacy.load(\"pt_core_news_sm\", disable=[\"ner\", \"parser\"])\n",
    "\n",
    "for w in stop_words:\n",
    "    nlp.vocab[w].is_stop = True\n",
    "\n",
    "def tokenize_spacy(text: str) -> List[str]:\n",
    "    # ordem: emojis → limpeza → spaCy\n",
    "    text = replace_emojis(text)\n",
    "    text = clean(text)\n",
    "    doc = nlp(text)\n",
    "    return [tok.lemma_ for tok in doc if not tok.is_stop and tok.text.strip()]"
   ]
  },
  {
   "cell_type": "code",
   "execution_count": 142,
   "id": "f48e3d3a",
   "metadata": {},
   "outputs": [],
   "source": [
    "# VETORIZAÇÃO TF-IDF\n",
    "# Convertemos tokens em vetores esparsos TF-IDF com uni-/bi-gramas\n",
    "\n",
    "tfidf_vectorizer = TfidfVectorizer(\n",
    "    tokenizer=tokenize_spacy,\n",
    "    preprocessor=lambda x: x, # já pre-processado na tokenização\n",
    "    lowercase=False, # texto já em lower\n",
    "    ngram_range=(1, 2),\n",
    "    min_df=3,\n",
    "    max_df=0.8,\n",
    "    sublinear_tf=True,\n",
    "    norm=\"l2\",\n",
    ")"
   ]
  },
  {
   "cell_type": "markdown",
   "id": "9a6b1b51",
   "metadata": {},
   "source": [
    "# **Treino e teste**"
   ]
  },
  {
   "cell_type": "code",
   "execution_count": 143,
   "id": "5f9b81a7",
   "metadata": {},
   "outputs": [
    {
     "name": "stderr",
     "output_type": "stream",
     "text": [
      "c:\\Users\\lucca\\AppData\\Local\\Programs\\Python\\Python310\\lib\\site-packages\\sklearn\\feature_extraction\\text.py:517: UserWarning: The parameter 'token_pattern' will not be used since 'tokenizer' is not None'\n",
      "  warnings.warn(\n"
     ]
    }
   ],
   "source": [
    "# Aplicar o vetorizador nos dados de treino e teste\n",
    "X_train = tfidf_vectorizer.fit_transform(train_df[\"text\"])\n",
    "X_test = tfidf_vectorizer.transform(test_df[\"text\"])"
   ]
  },
  {
   "cell_type": "code",
   "execution_count": null,
   "id": "d825c18d",
   "metadata": {},
   "outputs": [],
   "source": [
    "y_train = train_df[\"discrete_stars\"].astype(int).values\n",
    "y_test = test_df[\"discrete_stars\"].astype(int).values"
   ]
  },
  {
   "cell_type": "code",
   "execution_count": 234,
   "id": "c060d1cc",
   "metadata": {},
   "outputs": [],
   "source": [
    "def train_and_test(model, X_train, y_train, X_test, y_test):\n",
    "    model.fit(X_train, y_train)\n",
    "    \n",
    "    y_hat = model.predict(X_test)\n",
    "    \n",
    "    report = classification_report(y_test, y_hat, digits=3, zero_division=0, output_dict=True)\n",
    "    print(classification_report(y_test, y_hat, digits=3, zero_division=0))\n",
    "    \n",
    "    # Calcular AUC\n",
    "    # Checa se o modelo tem o método predict_proba antes de calcular o AUC\n",
    "    if hasattr(model, \"predict_proba\"):\n",
    "        auc = roc_auc_score(y_test, model.predict_proba(X_test), multi_class='ovr')\n",
    "    else:\n",
    "        auc = None\n",
    "    \n",
    "    report['auc'] = auc\n",
    "\n",
    "    return report, y_hat"
   ]
  },
  {
   "cell_type": "code",
   "execution_count": 235,
   "id": "5e82f458",
   "metadata": {},
   "outputs": [
    {
     "name": "stdout",
     "output_type": "stream",
     "text": [
      "              precision    recall  f1-score   support\n",
      "\n",
      "           1      0.213     0.487     0.296      1929\n",
      "           2      0.272     0.202     0.232      1818\n",
      "           3      0.246     0.125     0.166      1865\n",
      "           4      0.203     0.117     0.149      1839\n",
      "           5      0.278     0.232     0.252      1961\n",
      "\n",
      "    accuracy                          0.235      9412\n",
      "   macro avg      0.242     0.233     0.219      9412\n",
      "weighted avg      0.242     0.235     0.220      9412\n",
      "\n"
     ]
    }
   ],
   "source": [
    "knn_report, knn_preds = train_and_test(\n",
    "    KNeighborsClassifier(n_neighbors=5), \n",
    "    X_train, y_train, X_test, y_test\n",
    ")"
   ]
  },
  {
   "cell_type": "code",
   "execution_count": 236,
   "id": "a19db18c",
   "metadata": {},
   "outputs": [
    {
     "name": "stdout",
     "output_type": "stream",
     "text": [
      "              precision    recall  f1-score   support\n",
      "\n",
      "           1      0.312     0.304     0.308      1929\n",
      "           2      0.431     0.474     0.451      1818\n",
      "           3      0.318     0.293     0.305      1865\n",
      "           4      0.302     0.279     0.290      1839\n",
      "           5      0.408     0.442     0.424      1961\n",
      "\n",
      "    accuracy                          0.358      9412\n",
      "   macro avg      0.354     0.358     0.356      9412\n",
      "weighted avg      0.354     0.358     0.356      9412\n",
      "\n"
     ]
    }
   ],
   "source": [
    "svm_report, svm_preds = train_and_test(\n",
    "    LinearSVC(max_iter=1000, class_weight=\"balanced\"),\n",
    "    X_train, y_train, X_test, y_test\n",
    ")"
   ]
  },
  {
   "cell_type": "code",
   "execution_count": 237,
   "id": "913e2947",
   "metadata": {},
   "outputs": [
    {
     "name": "stdout",
     "output_type": "stream",
     "text": [
      "              precision    recall  f1-score   support\n",
      "\n",
      "           1      0.361     0.187     0.246      1929\n",
      "           2      0.407     0.552     0.469      1818\n",
      "           3      0.342     0.330     0.336      1865\n",
      "           4      0.311     0.326     0.318      1839\n",
      "           5      0.435     0.491     0.461      1961\n",
      "\n",
      "    accuracy                          0.376      9412\n",
      "   macro avg      0.371     0.377     0.366      9412\n",
      "weighted avg      0.372     0.376     0.366      9412\n",
      "\n"
     ]
    }
   ],
   "source": [
    "nb_report, nb_preds = train_and_test(\n",
    "    MultinomialNB(),\n",
    "    X_train, y_train, X_test, y_test\n",
    ")"
   ]
  },
  {
   "cell_type": "code",
   "execution_count": 238,
   "id": "c7800a34",
   "metadata": {},
   "outputs": [
    {
     "name": "stdout",
     "output_type": "stream",
     "text": [
      "              precision    recall  f1-score   support\n",
      "\n",
      "           1      0.323     0.313     0.318      1929\n",
      "           2      0.470     0.502     0.486      1818\n",
      "           3      0.349     0.312     0.329      1865\n",
      "           4      0.313     0.288     0.300      1839\n",
      "           5      0.435     0.497     0.464      1961\n",
      "\n",
      "    accuracy                          0.383      9412\n",
      "   macro avg      0.378     0.382     0.379      9412\n",
      "weighted avg      0.378     0.383     0.380      9412\n",
      "\n"
     ]
    }
   ],
   "source": [
    "logreg_report, logreg_preds = train_and_test(\n",
    "    LogisticRegression(max_iter=1000, class_weight=\"balanced\"),\n",
    "    X_train, y_train, X_test, y_test\n",
    ")"
   ]
  },
  {
   "cell_type": "code",
   "execution_count": 239,
   "id": "83e8fb44",
   "metadata": {},
   "outputs": [],
   "source": [
    "import matplotlib.pyplot as plt\n",
    "import numpy as np\n",
    "\n",
    "def plot_classification_reports(reports, model_names):\n",
    "    assert len(reports) == len(model_names), \"A lista de reports deve ter o mesmo tamanho da lista de nomes.\"\n",
    "\n",
    "    # Extrai as métricas de cada report\n",
    "    accuracies = [report['accuracy'] for report in reports]\n",
    "    recalls    = [report['macro avg']['recall'] for report in reports]\n",
    "    precisions = [report['macro avg']['precision'] for report in reports]\n",
    "    f1_scores  = [report['macro avg']['f1-score'] for report in reports]\n",
    "    aucs       = [report.get('auc', 0) if report.get('auc', 0) is not None else 0 for report in reports]\n",
    "\n",
    "    x = np.arange(len(model_names))  # Posições dos grupos no eixo X\n",
    "    width = 0.15  # Largura de cada barra (menor para caberem 5)\n",
    "\n",
    "    offsets = [-2, -1, 0, 1, 2]  # 5 métricas, centralizadas\n",
    "    bars = []\n",
    "\n",
    "    fig, ax = plt.subplots(figsize=(14, 6))\n",
    "    bars.append(ax.bar(x + offsets[0]*width, accuracies, width, label='Acurácia', color='red'))\n",
    "    bars.append(ax.bar(x + offsets[1]*width, recalls,    width, label='Recall',   color='green'))\n",
    "    bars.append(ax.bar(x + offsets[2]*width, precisions, width, label='Precisão', color='gold'))\n",
    "    bars.append(ax.bar(x + offsets[3]*width, f1_scores,  width, label='F1-Score', color='blue'))\n",
    "    bars.append(ax.bar(x + offsets[4]*width, aucs,       width, label='AUC',      color='purple'))\n",
    "\n",
    "    # Adiciona os valores em cima das barras\n",
    "    for bar_group in bars:\n",
    "        for bar in bar_group:\n",
    "            height = bar.get_height()\n",
    "            ax.annotate(f'{height:.3f}',\n",
    "                        xy=(bar.get_x() + bar.get_width() / 2, height),\n",
    "                        xytext=(0, 3),\n",
    "                        textcoords=\"offset points\",\n",
    "                        ha='center', va='bottom', fontsize=8)\n",
    "\n",
    "    ax.set_xlabel('Modelos')\n",
    "    ax.set_ylabel('Pontuação')\n",
    "    ax.set_title('Comparação de Métricas de Classificação')\n",
    "    ax.set_xticks(x)\n",
    "    ax.set_xticklabels(model_names)\n",
    "    ax.set_ylim(0, 0.8)\n",
    "    ax.legend()\n",
    "    ax.grid(True, linestyle='--', axis='y', alpha=0.6)\n",
    "\n",
    "    plt.tight_layout()\n",
    "    plt.show()"
   ]
  },
  {
   "cell_type": "code",
   "execution_count": 240,
   "id": "72cb4367",
   "metadata": {},
   "outputs": [
    {
     "data": {
      "image/png": "[encoded data removed]",
      "text/plain": [
       "<Figure size 1400x600 with 1 Axes>"
      ]
     },
     "metadata": {},
     "output_type": "display_data"
    }
   ],
   "source": [
    "plot_classification_reports(\n",
    "    reports=[knn_report, svm_report, nb_report, logreg_report],\n",
    "    model_names=['kNN', 'SVM', 'Naive Bayes', 'Regressão Logística']\n",
    ")"
   ]
  },
  {
   "cell_type": "code",
   "execution_count": 272,
   "id": "735fb4ac",
   "metadata": {},
   "outputs": [
    {
     "data": {
      "image/png": "[encoded data removed]",
      "text/plain": [
       "<Figure size 640x480 with 2 Axes>"
      ]
     },
     "metadata": {},
     "output_type": "display_data"
    }
   ],
   "source": [
    "# Matriz de Confusão\n",
    "from sklearn.metrics import confusion_matrix, ConfusionMatrixDisplay\n",
    "\n",
    "# Plotar\n",
    "def plot_confusion_matrix(y_true, y_pred, classes, title='Matriz de Confusão'):\n",
    "    cm = confusion_matrix(y_true, y_pred, labels=classes)\n",
    "    disp = ConfusionMatrixDisplay(confusion_matrix=cm, display_labels=classes)\n",
    "    disp.plot(cmap=plt.cm.Blues)\n",
    "    plt.title(title)\n",
    "    plt.show()\n",
    "    \n",
    "# Plotar matriz de confusão para o modelo de Regressão Logística\n",
    "plot_confusion_matrix(\n",
    "    y_true=y_test,\n",
    "    y_pred=logreg_preds,\n",
    "    classes=np.unique(y_test),\n",
    "    title='Matriz de Confusão - Regressão Logística'\n",
    ")"
   ]
  }
 ],
 "metadata": {
  "kernelspec": {
   "display_name": "Python 3",
   "language": "python",
   "name": "python3"
  },
  "language_info": {
   "codemirror_mode": {
    "name": "ipython",
    "version": 3
   },
   "file_extension": ".py",
   "mimetype": "text/x-python",
   "name": "python",
   "nbconvert_exporter": "python",
   "pygments_lexer": "ipython3",
   "version": "3.10.11"
  }
 },
 "nbformat": 4,
 "nbformat_minor": 5
}
