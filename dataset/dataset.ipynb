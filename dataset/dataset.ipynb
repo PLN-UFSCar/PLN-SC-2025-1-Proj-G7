{
 "cells": [
  {
   "cell_type": "code",
   "execution_count": 1,
   "id": "5d918ac7",
   "metadata": {},
   "outputs": [],
   "source": [
    "import pandas as pd"
   ]
  },
  {
   "cell_type": "code",
   "execution_count": 2,
   "id": "9b6295c9",
   "metadata": {},
   "outputs": [],
   "source": [
    "corpus = pd.read_csv('./corpus (1).txt')"
   ]
  },
  {
   "cell_type": "code",
   "execution_count": 3,
   "id": "59fe2b3b",
   "metadata": {},
   "outputs": [],
   "source": [
    "movies = corpus[corpus['domain'] == 'movies']\n",
    "movies = movies.drop(columns=['Unnamed: 0', 'domain', 'author', 'likes', 'unlikes', 'date', 'collect_date', \n",
    "                              'replies', 'favorite', 'want_see', 'recommend', 'see', 'internal_id'])\n",
    "movies = movies.dropna(subset=['text'])\n",
    "movies = movies.dropna(subset=['stars'])"
   ]
  },
  {
   "cell_type": "code",
   "execution_count": 4,
   "id": "65ebe67e",
   "metadata": {},
   "outputs": [
    {
     "name": "stdout",
     "output_type": "stream",
     "text": [
      "<class 'pandas.core.frame.DataFrame'>\n",
      "Index: 1838895 entries, 0 to 1839850\n",
      "Data columns (total 3 columns):\n",
      " #   Column  Dtype  \n",
      "---  ------  -----  \n",
      " 0   object  object \n",
      " 1   text    object \n",
      " 2   stars   float64\n",
      "dtypes: float64(1), object(2)\n",
      "memory usage: 56.1+ MB\n"
     ]
    }
   ],
   "source": [
    "movies.info()"
   ]
  },
  {
   "cell_type": "code",
   "execution_count": 5,
   "id": "35961f02",
   "metadata": {},
   "outputs": [],
   "source": [
    "def classify_stars(stars):\n",
    "    if 0 <= stars < 1.5:\n",
    "        return 1\n",
    "    elif 1.5 <= stars < 2.5:\n",
    "        return 2\n",
    "    elif 2.5 <= stars < 3.5:\n",
    "        return 3\n",
    "    elif 3.5 <= stars < 4.5:\n",
    "        return 4\n",
    "    elif stars >= 4.5:\n",
    "        return 5\n",
    "    else:\n",
    "        return None\n",
    "    \n",
    "#movies['discrete_stars'] = movies['stars']\n",
    "movies['discrete_stars'] = movies['stars'].apply(classify_stars)"
   ]
  },
  {
   "cell_type": "code",
   "execution_count": 6,
   "id": "31caf7c4",
   "metadata": {},
   "outputs": [
    {
     "data": {
      "text/plain": [
       "discrete_stars\n",
       "5    39.446026\n",
       "4    26.368281\n",
       "1    20.220676\n",
       "3    10.576080\n",
       "2     3.388937\n",
       "Name: proportion, dtype: float64"
      ]
     },
     "execution_count": 6,
     "metadata": {},
     "output_type": "execute_result"
    }
   ],
   "source": [
    "movies['discrete_stars'].value_counts(normalize=True)*100"
   ]
  },
  {
   "cell_type": "code",
   "execution_count": 7,
   "id": "c43eb295",
   "metadata": {},
   "outputs": [
    {
     "name": "stderr",
     "output_type": "stream",
     "text": [
      "C:\\Users\\lucca\\AppData\\Local\\Temp\\ipykernel_7532\\3932032607.py:3: FutureWarning: DataFrameGroupBy.apply operated on the grouping columns. This behavior is deprecated, and in a future version of pandas the grouping columns will be excluded from the operation. Either pass `include_groups=False` to exclude the groupings or explicitly select the grouping columns after groupby to silence this warning.\n",
      "  sampled_movies = movies.groupby('discrete_stars').apply(lambda x: x.sample(n=least_amount, random_state=42)).reset_index(drop=True)\n"
     ]
    }
   ],
   "source": [
    "# Para cada valor de discrete_stars, selecionar 62360 amostras aleatórias\n",
    "least_amount = movies['discrete_stars'].value_counts().min()\n",
    "sampled_movies = movies.groupby('discrete_stars').apply(lambda x: x.sample(n=least_amount, random_state=42)).reset_index(drop=True)"
   ]
  },
  {
   "cell_type": "code",
   "execution_count": 8,
   "id": "e8a4e0f0",
   "metadata": {},
   "outputs": [
    {
     "data": {
      "text/plain": [
       "discrete_stars\n",
       "1    62319\n",
       "2    62319\n",
       "3    62319\n",
       "4    62319\n",
       "5    62319\n",
       "Name: count, dtype: int64"
      ]
     },
     "execution_count": 8,
     "metadata": {},
     "output_type": "execute_result"
    }
   ],
   "source": [
    "sampled_movies['discrete_stars'].value_counts()"
   ]
  },
  {
   "cell_type": "code",
   "execution_count": 9,
   "id": "912b7ff6",
   "metadata": {},
   "outputs": [
    {
     "name": "stderr",
     "output_type": "stream",
     "text": [
      "C:\\Users\\lucca\\AppData\\Local\\Temp\\ipykernel_7532\\4023045877.py:2: FutureWarning: DataFrameGroupBy.apply operated on the grouping columns. This behavior is deprecated, and in a future version of pandas the grouping columns will be excluded from the operation. Either pass `include_groups=False` to exclude the groupings or explicitly select the grouping columns after groupby to silence this warning.\n",
      "  sampled_movies = sampled_movies.groupby('discrete_stars').apply(lambda x: x.sample(n=10000, random_state=42)).reset_index(drop=True)\n"
     ]
    },
    {
     "data": {
      "text/plain": [
       "discrete_stars\n",
       "1    10000\n",
       "2    10000\n",
       "3    10000\n",
       "4    10000\n",
       "5    10000\n",
       "Name: count, dtype: int64"
      ]
     },
     "execution_count": 9,
     "metadata": {},
     "output_type": "execute_result"
    }
   ],
   "source": [
    "# Reduzir o tamanho do dataset para 50k amostras por classe\n",
    "sampled_movies = sampled_movies.groupby('discrete_stars').apply(lambda x: x.sample(n=10000, random_state=42)).reset_index(drop=True)\n",
    "sampled_movies['discrete_stars'].value_counts()"
   ]
  },
  {
   "cell_type": "code",
   "execution_count": 10,
   "id": "22e993d5",
   "metadata": {},
   "outputs": [
    {
     "name": "stdout",
     "output_type": "stream",
     "text": [
      "Treino:\n",
      "discrete_stars\n",
      "2    8182\n",
      "4    8161\n",
      "3    8135\n",
      "1    8071\n",
      "5    8039\n",
      "Name: count, dtype: int64\n",
      "\n",
      "Teste:\n",
      "discrete_stars\n",
      "5    1961\n",
      "1    1929\n",
      "3    1865\n",
      "4    1839\n",
      "2    1818\n",
      "Name: count, dtype: int64\n"
     ]
    }
   ],
   "source": [
    "from sklearn.model_selection import train_test_split\n",
    "\n",
    "unique_movies = sampled_movies.groupby('object')['discrete_stars'].agg(lambda x: x.mode().iloc[0]).reset_index()\n",
    "\n",
    "movies_train, movies_test = train_test_split(\n",
    "    unique_movies,\n",
    "    test_size=0.2,\n",
    "    stratify=unique_movies['discrete_stars'],\n",
    "    random_state=42\n",
    ")\n",
    "\n",
    "train_df = sampled_movies[sampled_movies['object'].isin(movies_train['object'])]\n",
    "test_df = sampled_movies[sampled_movies['object'].isin(movies_test['object'])]\n",
    "\n",
    "print(\"Treino:\")\n",
    "print(train_df['discrete_stars'].value_counts())\n",
    "print()\n",
    "print(\"Teste:\")\n",
    "print(test_df['discrete_stars'].value_counts())"
   ]
  },
  {
   "cell_type": "code",
   "execution_count": 11,
   "id": "3e2c7b5b",
   "metadata": {},
   "outputs": [
    {
     "data": {
      "text/plain": [
       "(40588, 9412)"
      ]
     },
     "execution_count": 11,
     "metadata": {},
     "output_type": "execute_result"
    }
   ],
   "source": [
    "train_df.shape[0], test_df.shape[0]"
   ]
  },
  {
   "cell_type": "code",
   "execution_count": 12,
   "id": "07e0000e",
   "metadata": {},
   "outputs": [
    {
     "data": {
      "text/plain": [
       "(0.81176, 0.18824)"
      ]
     },
     "execution_count": 12,
     "metadata": {},
     "output_type": "execute_result"
    }
   ],
   "source": [
    "train_df.shape[0] / sampled_movies.shape[0], test_df.shape[0] / sampled_movies.shape[0]"
   ]
  },
  {
   "cell_type": "code",
   "execution_count": 13,
   "id": "29d05136",
   "metadata": {},
   "outputs": [
    {
     "data": {
      "text/plain": [
       "(2043, 511)"
      ]
     },
     "execution_count": 13,
     "metadata": {},
     "output_type": "execute_result"
    }
   ],
   "source": [
    "train_df['object'].nunique(), test_df['object'].nunique()"
   ]
  },
  {
   "cell_type": "code",
   "execution_count": 14,
   "id": "feec7220",
   "metadata": {},
   "outputs": [
    {
     "data": {
      "text/html": [
       "<div>\n",
       "<style scoped>\n",
       "    .dataframe tbody tr th:only-of-type {\n",
       "        vertical-align: middle;\n",
       "    }\n",
       "\n",
       "    .dataframe tbody tr th {\n",
       "        vertical-align: top;\n",
       "    }\n",
       "\n",
       "    .dataframe thead th {\n",
       "        text-align: right;\n",
       "    }\n",
       "</style>\n",
       "<table border=\"1\" class=\"dataframe\">\n",
       "  <thead>\n",
       "    <tr style=\"text-align: right;\">\n",
       "      <th></th>\n",
       "      <th>object</th>\n",
       "      <th>text</th>\n",
       "      <th>stars</th>\n",
       "      <th>discrete_stars</th>\n",
       "    </tr>\n",
       "  </thead>\n",
       "  <tbody>\n",
       "    <tr>\n",
       "      <th>1</th>\n",
       "      <td>namorados-para-sempre-t15562</td>\n",
       "      <td>fiquei mal quando terminei de ver</td>\n",
       "      <td>0.0</td>\n",
       "      <td>1</td>\n",
       "    </tr>\n",
       "    <tr>\n",
       "      <th>4</th>\n",
       "      <td>mortal-kombat-t15331</td>\n",
       "      <td>http://www.youtube.com/watch?v=hSCB5mBpxq0</td>\n",
       "      <td>0.0</td>\n",
       "      <td>1</td>\n",
       "    </tr>\n",
       "    <tr>\n",
       "      <th>5</th>\n",
       "      <td>idiocracia-t8163</td>\n",
       "      <td>Concordo com o bruno. O filme é horrível, apes...</td>\n",
       "      <td>1.0</td>\n",
       "      <td>1</td>\n",
       "    </tr>\n",
       "    <tr>\n",
       "      <th>6</th>\n",
       "      <td>sweeney-todd-o-barbeiro-demoniaco-da-rua-fleet...</td>\n",
       "      <td>Excelente!! Adorei o musical e ver no filme fo...</td>\n",
       "      <td>0.0</td>\n",
       "      <td>1</td>\n",
       "    </tr>\n",
       "    <tr>\n",
       "      <th>7</th>\n",
       "      <td>anticristo-t8198</td>\n",
       "      <td>Amiga, vamos melhorar.</td>\n",
       "      <td>1.0</td>\n",
       "      <td>1</td>\n",
       "    </tr>\n",
       "  </tbody>\n",
       "</table>\n",
       "</div>"
      ],
      "text/plain": [
       "                                              object  \\\n",
       "1                       namorados-para-sempre-t15562   \n",
       "4                               mortal-kombat-t15331   \n",
       "5                                   idiocracia-t8163   \n",
       "6  sweeney-todd-o-barbeiro-demoniaco-da-rua-fleet...   \n",
       "7                                   anticristo-t8198   \n",
       "\n",
       "                                                text  stars  discrete_stars  \n",
       "1                  fiquei mal quando terminei de ver    0.0               1  \n",
       "4         http://www.youtube.com/watch?v=hSCB5mBpxq0    0.0               1  \n",
       "5  Concordo com o bruno. O filme é horrível, apes...    1.0               1  \n",
       "6  Excelente!! Adorei o musical e ver no filme fo...    0.0               1  \n",
       "7                             Amiga, vamos melhorar.    1.0               1  "
      ]
     },
     "execution_count": 14,
     "metadata": {},
     "output_type": "execute_result"
    }
   ],
   "source": [
    "train_df.head()"
   ]
  },
  {
   "cell_type": "code",
   "execution_count": 15,
   "id": "ea035f5b",
   "metadata": {},
   "outputs": [],
   "source": [
    "# Exportar os datasets\n",
    "train_df.to_csv('train_movies.csv', index=False)\n",
    "test_df.to_csv('test_movies.csv', index=False)"
   ]
  }
 ],
 "metadata": {
  "kernelspec": {
   "display_name": "Python 3",
   "language": "python",
   "name": "python3"
  },
  "language_info": {
   "codemirror_mode": {
    "name": "ipython",
    "version": 3
   },
   "file_extension": ".py",
   "mimetype": "text/x-python",
   "name": "python",
   "nbconvert_exporter": "python",
   "pygments_lexer": "ipython3",
   "version": "3.10.11"
  }
 },
 "nbformat": 4,
 "nbformat_minor": 5
}
